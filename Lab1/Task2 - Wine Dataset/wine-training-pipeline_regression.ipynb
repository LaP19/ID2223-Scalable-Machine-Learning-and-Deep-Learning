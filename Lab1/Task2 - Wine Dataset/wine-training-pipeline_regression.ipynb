{
 "cells": [
  {
   "cell_type": "code",
   "execution_count": 1,
   "outputs": [
    {
     "name": "stdout",
     "output_type": "stream",
     "text": [
      "Requirement already satisfied: xgboost in c:\\users\\beatrice\\anaconda3\\lib\\site-packages (2.0.1)\n",
      "Requirement already satisfied: scipy in c:\\users\\beatrice\\anaconda3\\lib\\site-packages (from xgboost) (1.9.1)\n",
      "Requirement already satisfied: numpy in c:\\users\\beatrice\\anaconda3\\lib\\site-packages (from xgboost) (1.24.4)\n"
     ]
    }
   ],
   "source": [
    "!pip install xgboost"
   ],
   "metadata": {
    "collapsed": false
   }
  },
  {
   "cell_type": "code",
   "execution_count": 2,
   "outputs": [],
   "source": [
    "import hopsworks\n",
    "import pandas as pd\n",
    "from sklearn.metrics import accuracy_score\n",
    "from sklearn.metrics import confusion_matrix\n",
    "from sklearn.metrics import classification_report\n",
    "import seaborn as sns\n",
    "import matplotlib.pyplot as plt\n",
    "from hsml.schema import Schema\n",
    "from hsml.model_schema import ModelSchema\n",
    "import joblib\n",
    "import os\n",
    "import xgboost as xgb"
   ],
   "metadata": {
    "collapsed": false
   }
  },
  {
   "cell_type": "code",
   "execution_count": 3,
   "id": "0888337e",
   "metadata": {},
   "outputs": [],
   "source": [
    "import os\n",
    " \n",
    "for k, v in os.environ.items():\n",
    "    if \"HOPS\" in k:\n",
    "        print(f'{k}={v}')"
   ]
  },
  {
   "cell_type": "code",
   "execution_count": 4,
   "id": "34cea067",
   "metadata": {},
   "outputs": [
    {
     "name": "stdout",
     "output_type": "stream",
     "text": [
      "Connected. Call `.close()` to terminate connection gracefully.\n",
      "\n",
      "Logged in to project, explore it here https://c.app.hopsworks.ai:443/p/204949\n"
     ]
    },
    {
     "name": "stderr",
     "output_type": "stream",
     "text": [
      "DeprecationWarning: the imp module is deprecated in favour of importlib; see the module's documentation for alternative uses\n"
     ]
    },
    {
     "name": "stdout",
     "output_type": "stream",
     "text": [
      "Connected. Call `.close()` to terminate connection gracefully.\n"
     ]
    }
   ],
   "source": [
    "project = hopsworks.login()\n",
    "fs = project.get_feature_store()"
   ]
  },
  {
   "cell_type": "code",
   "execution_count": 6,
   "id": "1613864d",
   "metadata": {},
   "outputs": [],
   "source": [
    "# The feature view is the input set of features for your model. The features can come from different feature groups.    \n",
    "# You can select features from different feature groups and join them together to create a feature view\n",
    "wine_fg = fs.get_feature_group(name=\"wine_reduced_new\", version=1)\n",
    "query = wine_fg.select_all()\n",
    "feature_view = fs.get_or_create_feature_view(name=\"wine_reduced_new\",\n",
    "                                  version=1,\n",
    "                                  description=\"Read from Wine dataset\",\n",
    "                                  labels=[\"quality\"],\n",
    "                                  query=query)"
   ]
  },
  {
   "cell_type": "code",
   "execution_count": 7,
   "outputs": [
    {
     "name": "stdout",
     "output_type": "stream",
     "text": [
      "Finished: Reading data from Hopsworks, using ArrowFlight (2.01s) \n"
     ]
    },
    {
     "name": "stderr",
     "output_type": "stream",
     "text": [
      "VersionWarning: Incremented version to `5`.\n"
     ]
    },
    {
     "data": {
      "text/plain": "((4263, 10), (1066, 10), (4263, 1), (1066, 1))"
     },
     "execution_count": 7,
     "metadata": {},
     "output_type": "execute_result"
    }
   ],
   "source": [
    "X_train, X_test, y_train, y_test = feature_view.train_test_split(0.2)\n",
    "X_train.shape, X_test.shape, y_train.shape, y_test.shape\n"
   ],
   "metadata": {
    "collapsed": false
   }
  },
  {
   "cell_type": "markdown",
   "id": "05ca0b03",
   "metadata": {},
   "source": [
    "Given that the relationships between features and the target variable are complex and nonlinear, we use Extreme Gradient Boosting as a model, in order to capture intricate patterns and interactions in the data."
   ]
  },
  {
   "cell_type": "code",
   "execution_count": 8,
   "id": "c00e17fb",
   "metadata": {},
   "outputs": [
    {
     "name": "stdout",
     "output_type": "stream",
     "text": [
      "Finished: Reading data from Hopsworks, using ArrowFlight (1.84s) \n"
     ]
    },
    {
     "name": "stderr",
     "output_type": "stream",
     "text": [
      "VersionWarning: Incremented version to `6`.\n",
      "UserWarning: `early_stopping_rounds` in `fit` method is deprecated for better compatibility with scikit-learn, use `early_stopping_rounds` in constructor or`set_params` instead.\n"
     ]
    },
    {
     "name": "stdout",
     "output_type": "stream",
     "text": [
      "MSE = 0.51\n"
     ]
    },
    {
     "data": {
      "text/plain": "<Figure size 640x480 with 1 Axes>",
      "image/png": "[encoded data removed]"
     },
     "metadata": {},
     "output_type": "display_data"
    }
   ],
   "source": [
    "#for extreme gradient boosting\n",
    "from xgboost import XGBRegressor\n",
    "\n",
    "#machine learning metrics\n",
    "from sklearn.metrics import mean_squared_error\n",
    "\n",
    "X_train, X_test, y_train, y_test = feature_view.train_test_split(0.2)\n",
    "\n",
    "#creating our model\n",
    "model = XGBRegressor(n_estimators=1000, learning_rate=0.05, n_jobs=4)\n",
    "\n",
    "#training the data\n",
    "model.fit(X_train, y_train.values.ravel(), \n",
    "             early_stopping_rounds=5, \n",
    "             eval_set=[(X_test, y_test)], \n",
    "             verbose=False)\n",
    "\n",
    "#making our predictions\n",
    "y_pred = model.predict(X_test)\n",
    "\n",
    "#getting the mse\n",
    "model_mse_2 = mean_squared_error(y_test, y_pred)\n",
    "print(\"MSE =\",(round(model_mse_2,2)))\n",
    "\n",
    "#getting the training resutls\n",
    "results = model.evals_result()\n",
    "plt.plot(results['validation_0']['rmse'], label='rmse')\n",
    "# show the legend\n",
    "plt.legend()\n",
    "# show the plot\n",
    "plt.show()"
   ]
  },
  {
   "cell_type": "code",
   "execution_count": 13,
   "id": "e8b495a7",
   "metadata": {},
   "outputs": [
    {
     "name": "stdout",
     "output_type": "stream",
     "text": [
      "Connected. Call `.close()` to terminate connection gracefully.\n"
     ]
    },
    {
     "name": "stderr",
     "output_type": "stream",
     "text": [
      "DeprecationWarning: The `ipykernel.comm.Comm` class has been deprecated. Please use the `comm` module instead.For creating comms, use the function `from comm import create_comm`.\n"
     ]
    },
    {
     "data": {
      "application/vnd.jupyter.widget-view+json": {
       "model_id": "3b19bef61f9c43a983355f3669a6065e",
       "version_major": 2,
       "version_minor": 0
      },
      "text/plain": [
       "  0%|          | 0/6 [00:00<?, ?it/s]"
      ]
     },
     "metadata": {},
     "output_type": "display_data"
    },
    {
     "name": "stdout",
     "output_type": "stream",
     "text": [
      "Model created, explore it at https://c.app.hopsworks.ai:443/p/201878/models/wine_model/2\n"
     ]
    },
    {
     "data": {
      "text/plain": [
       "Model(name: 'wine_model', version: 2)"
      ]
     },
     "execution_count": 13,
     "metadata": {},
     "output_type": "execute_result"
    }
   ],
   "source": [
    "# We will now upload our model to the Hopsworks Model Registry. First get an object for the model registry.\n",
    "mr = project.get_model_registry()\n",
    "\n",
    "# The contents of the 'wine_model' directory will be saved to the model registry. Create the dir, first.\n",
    "model_dir=\"wine_model\"\n",
    "if os.path.isdir(model_dir) == False:\n",
    "    os.mkdir(model_dir)\n",
    "\n",
    "# Save model to 'model_dir'\n",
    "joblib.dump(model, model_dir + \"/wine_model.pkl\")   \n",
    "\n",
    "# Specify the schema of the model's input/output using the features (X_train) and labels (y_train)\n",
    "input_schema = Schema(X_train)\n",
    "output_schema = Schema(y_train)\n",
    "model_schema = ModelSchema(input_schema, output_schema)\n",
    "\n",
    "metrics = {\"model_mse\": model_mse_2}\n",
    "# Create an entry in the model registry that includes the model's name, desc, metrics\n",
    "wine_model = mr.python.create_model(\n",
    "    name=\"wine_model\", \n",
    "    metrics=metrics,\n",
    "    model_schema=model_schema,\n",
    "    description=\"Wine quality Predictor\"\n",
    ")\n",
    "\n",
    "# Upload the model to the model registry, including all files in 'model_dir'\n",
    "wine_model.save(model_dir)"
   ]
  }
 ],
 "metadata": {
  "kernelspec": {
   "display_name": "Python 3 (ipykernel)",
   "language": "python",
   "name": "python3"
  },
  "language_info": {
   "codemirror_mode": {
    "name": "ipython",
    "version": 3
   },
   "file_extension": ".py",
   "mimetype": "text/x-python",
   "name": "python",
   "nbconvert_exporter": "python",
   "pygments_lexer": "ipython3",
   "version": "3.11.5"
  }
 },
 "nbformat": 4,
 "nbformat_minor": 5
}
